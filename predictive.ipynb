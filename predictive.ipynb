{
  "nbformat": 4,
  "nbformat_minor": 0,
  "metadata": {
    "colab": {
      "name": "predictive.ipynb",
      "provenance": [],
      "collapsed_sections": []
    },
    "kernelspec": {
      "name": "python3",
      "display_name": "Python 3"
    }
  },
  "cells": [
    {
      "cell_type": "code",
      "metadata": {
        "id": "MSpykVeaERcP",
        "colab_type": "code",
        "colab": {}
      },
      "source": [
        "import pandas as pd\n",
        "import spacy"
      ],
      "execution_count": 0,
      "outputs": []
    },
    {
      "cell_type": "code",
      "metadata": {
        "id": "R3q3wlYBFS2q",
        "colab_type": "code",
        "colab": {}
      },
      "source": [
        "isear=pd.read_excel(r'corona.xlsx')\n",
        "ttet=isear['SIT']"
      ],
      "execution_count": 0,
      "outputs": []
    },
    {
      "cell_type": "code",
      "metadata": {
        "id": "_TNpN3_qjRLh",
        "colab_type": "code",
        "colab": {}
      },
      "source": [
        "for text in ttet: \n",
        "  from spacy.lang.en import English\n",
        "  nlp=English()\n",
        "  my_doc=nlp(text)\n",
        "  filtered_sentence=[]\n",
        "  for token in my_doc:  \n",
        "    if(token.is_stop==False):  #remove stop words\n",
        "      if(token.is_punct==False):  #remove punctuations\n",
        "        filtered_sentence.append(token.lemma_.strip().lower()) #lemmatize and convert to lowercase\n",
        "  from collections import Counter  \n",
        "  word_freq=Counter(filtered_sentence)\n",
        "  common_words = word_freq.most_common(3)\n",
        "  unique_words = [word for (word, freq) in word_freq.items() if freq == 1] #unique words\n",
        "  nouns=[]\n",
        "  adjectives=[]\n",
        "  verb=[]\n",
        "  for token in unique_words: #parts of speech tagging\n",
        "    if token.pos_ == 'NOUN':\n",
        "      nouns.append(token)\n",
        "    elif token.pos_ == 'ADJ':\n",
        "      adjectives.append(token)\n",
        "    elif token.pos_ =='VERB':\n",
        "      verb.append(token)\n",
        "  from sklearn.feature_extraction.text import CountVectorizer #$vectorizerization\n",
        "  count_vect = CountVectorizer(analyzer=clean_text)\n",
        "  X_counts1 = count_vect.fit_transform(unique['body_text'])\n",
        "  from sklearn.feature_extraction.text import CountVectorizer\n",
        "  ngram_vect = CountVectorizer(ngram_range=(2,2),analyzer=clean_text) # It applies only bigram vectorizer\n",
        "  X_counts2 = ngram_vect.fit_transform(unique['body_text'])\n",
        "  from sklearn.feature_extraction.text import TfidfVectorizer\n",
        "  tfidf_vect = TfidfVectorizer(analyzer=clean_text)\n",
        "  X_tfidf = tfidf_vect.fit_transform(unique['body_text'])\n",
        "  TRAIN_DATA = [\n",
        "        (\"Uber blew through $1 million a week\", {\"entities\": [(0, 4, \"ORG\")]}),\n",
        "        (\"Google rebrands its business apps\", {\"entities\": [(0, 6, \"ORG\")]})]\n",
        "\n",
        "  nlp = spacy.blank(\"en\")\n",
        "  optimizer = nlp.begin_training() #train data\n",
        "  for i in range(20):\n",
        "      random.shuffle(TRAIN_DATA)\n",
        "     for text, annotations in TRAIN_DATA:\n",
        "          nlp.update([text], [annotations], sgd=optimizer)\n",
        "  nlp.to_disk(\"/model\")\n",
        "\n",
        "from sklearn import tree\n",
        "x = [[0.0007608], [0.0008997], [0.0018225], [0.0021756], [0.0022914], [0.0036012], [0.0063791], [0.0084612], [0.0086279], [0.0182421], [0.0240757]]\n",
        "y = ['Fear','Sadness' ,'Guilt' ,'Hostility' ,'Shyness' ,'Fatigue' ,'Surprise' ,'Joviality' ,'Self-assurance' ,'Attentiveness ','Serenity']\n",
        "\n",
        "dtree= tree.DecisionTreeClassifier()\n",
        "dtree.fit(x,y)\n",
        "\n",
        "z = [[0.0007000],[0.008],[0.00493],[0.0000964],[0.00743]]\n",
        "dtree.predict(z,y)"
      ],
      "execution_count": 0,
      "outputs": []
    },
    {
      "cell_type": "code",
      "metadata": {
        "id": "PYlRb0MKzvho",
        "colab_type": "code",
        "colab": {}
      },
      "source": [
        " "
      ],
      "execution_count": 0,
      "outputs": []
    }
  ]
}